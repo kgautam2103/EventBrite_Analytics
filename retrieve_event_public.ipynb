{
  "nbformat": 4,
  "nbformat_minor": 0,
  "metadata": {
    "colab": {
      "provenance": [],
      "include_colab_link": true
    },
    "kernelspec": {
      "name": "python3",
      "display_name": "Python 3"
    },
    "language_info": {
      "name": "python"
    }
  },
  "cells": [
    {
      "cell_type": "markdown",
      "metadata": {
        "id": "view-in-github",
        "colab_type": "text"
      },
      "source": [
        "<a href=\"https://colab.research.google.com/github/kgautam2103/EventBrite_Analytics/blob/main/retrieve_event_public.ipynb\" target=\"_parent\"><img src=\"https://colab.research.google.com/assets/colab-badge.svg\" alt=\"Open In Colab\"/></a>"
      ]
    },
    {
      "cell_type": "code",
      "source": [
        "import json\n",
        "import requests\n",
        "\n",
        "\n",
        "#auth token for Eventbrite account admin user\n",
        "auth_token = ''\n",
        "\n",
        "authorization = 'Bearer '+auth_token\n",
        "headers = {\n",
        "        'Authorization': authorization,\n",
        "        'Content-Type': 'application/json'\n",
        "    }\n",
        "\n",
        "prod_url = 'https://www.eventbriteapi.com/v3/events/'\n",
        "event_id = input(\"enter the event_id: \")\n",
        "retrieve_url = prod_url+str(event_id.strip())\n",
        "print(retrieve_url)\n",
        "\n",
        "retrieve_response = requests.get(retrieve_url,headers=headers)\n",
        "\n",
        "print(retrieve_response.json())\n",
        "\n",
        "\n",
        "'''\n",
        "793996911983,797755948517,Auckland\n",
        "'''\n"
      ],
      "metadata": {
        "colab": {
          "base_uri": "https://localhost:8080/"
        },
        "id": "RZyM6TfiQEhX",
        "outputId": "c64f7478-7586-459e-fa38-20ba308c58e7"
      },
      "execution_count": null,
      "outputs": [
        {
          "output_type": "stream",
          "name": "stdout",
          "text": [
            "enter the event_id: 797755948517\n",
            "https://www.eventbriteapi.com/v3/events/797755948517\n",
            "{'name': {'text': 'Auckland: 21 Day- Free Kundalini Inner Energy Awakening Meditation', 'html': 'Auckland: 21 Day- Free Kundalini Inner Energy Awakening Meditation'}, 'description': {'text': 'Seeking new horizons and self-discovery? Try Kundalini inner energy awakening in 21 Days with Free Sahaja Yoga Guided Meditation course.', 'html': 'Seeking new horizons and self-discovery? Try Kundalini inner energy awakening in 21 Days with Free Sahaja Yoga Guided Meditation course.'}, 'url': 'https://www.eventbrite.com.au/e/auckland-21-day-free-kundalini-inner-energy-awakening-meditation-tickets-797755948517', 'start': {'timezone': 'Pacific/Auckland', 'local': '2024-01-29T14:45:00', 'utc': '2024-01-29T01:45:00Z'}, 'end': {'timezone': 'Pacific/Auckland', 'local': '2024-01-29T15:45:00', 'utc': '2024-01-29T02:45:00Z'}, 'organization_id': '793996911983', 'created': '2024-01-14T13:05:38Z', 'changed': '2024-01-16T03:02:38Z', 'published': '2024-01-14T14:39:31Z', 'capacity': 25, 'capacity_is_custom': True, 'status': 'live', 'currency': 'USD', 'listed': True, 'shareable': True, 'invite_only': False, 'online_event': False, 'show_remaining': False, 'tx_time_limit': 1200, 'hide_start_date': False, 'hide_end_date': False, 'locale': 'en_US', 'is_locked': False, 'privacy_setting': 'unlocked', 'is_series': False, 'is_series_parent': False, 'inventory_type': 'limited', 'is_reserved_seating': False, 'show_pick_a_seat': False, 'show_seatmap_thumbnail': False, 'show_colors_in_seatmap_thumbnail': False, 'source': 'coyote', 'is_free': True, 'version': None, 'summary': 'Seeking new horizons and self-discovery? Try Kundalini inner energy awakening in 21 Days with Free Sahaja Yoga Guided Meditation course.', 'facebook_event_id': None, 'logo_id': '674204389', 'organizer_id': '77443132593', 'venue_id': '192430429', 'category_id': '114', 'subcategory_id': '14009', 'format_id': '9', 'id': '797755948517', 'resource_uri': 'https://www.eventbriteapi.com/v3/events/797755948517/', 'is_externally_ticketed': False, 'logo': {'crop_mask': {'top_left': {'x': 0, 'y': 108}, 'width': 480, 'height': 240}, 'original': {'url': 'https://img.evbuc.com/https%3A%2F%2Fcdn.evbuc.com%2Fimages%2F674204389%2F647919780083%2F1%2Foriginal.20240114-130614?auto=format%2Ccompress&q=75&sharp=10&s=57be1ac128cad45ca819e82be712ecf7', 'width': 480, 'height': 359}, 'id': '674204389', 'url': 'https://img.evbuc.com/https%3A%2F%2Fcdn.evbuc.com%2Fimages%2F674204389%2F647919780083%2F1%2Foriginal.20240114-130614?h=200&w=450&auto=format%2Ccompress&q=75&sharp=10&rect=0%2C108%2C480%2C240&s=272d6e13566eb9094d8011ed5cb3d342', 'aspect_ratio': '2', 'edge_color': '#69655d', 'edge_color_set': True}}\n"
          ]
        }
      ]
    },
    {
      "cell_type": "markdown",
      "source": [],
      "metadata": {
        "id": "eDyrO4vLB3vF"
      }
    }
  ]
}